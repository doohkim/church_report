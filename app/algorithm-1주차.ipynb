{
 "cells": [
  {
   "cell_type": "code",
   "execution_count": 14,
   "metadata": {},
   "outputs": [
    {
     "data": {
      "text/plain": [
       "type"
      ]
     },
     "execution_count": 14,
     "metadata": {},
     "output_type": "execute_result"
    }
   ],
   "source": []
  },
  {
   "cell_type": "code",
   "execution_count": 11,
   "metadata": {},
   "outputs": [
    {
     "name": "stdout",
     "output_type": "stream",
     "text": [
      "8\n"
     ]
    }
   ],
   "source": [
    "num = map(int, input())"
   ]
  },
  {
   "cell_type": "code",
   "execution_count": 12,
   "metadata": {},
   "outputs": [
    {
     "ename": "TypeError",
     "evalue": "'map' object cannot be interpreted as an integer",
     "output_type": "error",
     "traceback": [
      "\u001b[0;31m---------------------------------------------------------------------------\u001b[0m",
      "\u001b[0;31mTypeError\u001b[0m                                 Traceback (most recent call last)",
      "\u001b[0;32m<ipython-input-12-df9f989f10e6>\u001b[0m in \u001b[0;36m<module>\u001b[0;34m\u001b[0m\n\u001b[1;32m      1\u001b[0m \u001b[0mgiven_list\u001b[0m \u001b[0;34m=\u001b[0m \u001b[0mlist\u001b[0m\u001b[0;34m(\u001b[0m\u001b[0;34m)\u001b[0m\u001b[0;34m\u001b[0m\u001b[0;34m\u001b[0m\u001b[0m\n\u001b[0;32m----> 2\u001b[0;31m \u001b[0;32mfor\u001b[0m \u001b[0mi\u001b[0m \u001b[0;32min\u001b[0m \u001b[0mrange\u001b[0m\u001b[0;34m(\u001b[0m\u001b[0mnum\u001b[0m\u001b[0;34m)\u001b[0m\u001b[0;34m:\u001b[0m\u001b[0;34m\u001b[0m\u001b[0;34m\u001b[0m\u001b[0m\n\u001b[0m\u001b[1;32m      3\u001b[0m     \u001b[0mgiven_num\u001b[0m \u001b[0;34m=\u001b[0m \u001b[0mint\u001b[0m\u001b[0;34m(\u001b[0m\u001b[0minput\u001b[0m\u001b[0;34m(\u001b[0m\u001b[0;34m)\u001b[0m\u001b[0;34m)\u001b[0m\u001b[0;34m\u001b[0m\u001b[0;34m\u001b[0m\u001b[0m\n\u001b[1;32m      4\u001b[0m     \u001b[0mgiven_list\u001b[0m\u001b[0;34m.\u001b[0m\u001b[0mappend\u001b[0m\u001b[0;34m(\u001b[0m\u001b[0mgiven_num\u001b[0m\u001b[0;34m)\u001b[0m\u001b[0;34m\u001b[0m\u001b[0;34m\u001b[0m\u001b[0m\n\u001b[1;32m      5\u001b[0m \u001b[0mgiven_list\u001b[0m\u001b[0;34m\u001b[0m\u001b[0;34m\u001b[0m\u001b[0m\n",
      "\u001b[0;31mTypeError\u001b[0m: 'map' object cannot be interpreted as an integer"
     ]
    }
   ],
   "source": [
    "given_list = list()\n",
    "for i in range(num):\n",
    "    given_num = int(input())\n",
    "    given_list.append(given_num)\n",
    "given_list"
   ]
  },
  {
   "cell_type": "code",
   "execution_count": 6,
   "metadata": {},
   "outputs": [
    {
     "name": "stdout",
     "output_type": "stream",
     "text": [
      "8\n",
      "4\n",
      "[1] 2\n",
      "[1, 2] 3\n",
      "[1, 2, 3] 4\n",
      "[1, 2, 3, 4] 5\n",
      "stack pop [1, 2, 3]\n"
     ]
    },
    {
     "ename": "KeyboardInterrupt",
     "evalue": "Interrupted by user",
     "output_type": "error",
     "traceback": [
      "\u001b[0;31m---------------------------------------------------------------------------\u001b[0m",
      "\u001b[0;31mKeyboardInterrupt\u001b[0m                         Traceback (most recent call last)",
      "\u001b[0;32m<ipython-input-6-c28cd7448a59>\u001b[0m in \u001b[0;36m<module>\u001b[0;34m\u001b[0m\n\u001b[1;32m      6\u001b[0m \u001b[0;32mfor\u001b[0m \u001b[0mi\u001b[0m \u001b[0;32min\u001b[0m \u001b[0mrange\u001b[0m\u001b[0;34m(\u001b[0m\u001b[0;36m1\u001b[0m\u001b[0;34m,\u001b[0m \u001b[0mnum\u001b[0m\u001b[0;34m)\u001b[0m\u001b[0;34m:\u001b[0m\u001b[0;34m\u001b[0m\u001b[0;34m\u001b[0m\u001b[0m\n\u001b[1;32m      7\u001b[0m     \u001b[0;31m# 주어지는 수열(입력된 숫자)의 숫자 입력\u001b[0m\u001b[0;34m\u001b[0m\u001b[0;34m\u001b[0m\u001b[0;34m\u001b[0m\u001b[0m\n\u001b[0;32m----> 8\u001b[0;31m     \u001b[0mdata\u001b[0m \u001b[0;34m=\u001b[0m \u001b[0mint\u001b[0m\u001b[0;34m(\u001b[0m\u001b[0minput\u001b[0m\u001b[0;34m(\u001b[0m\u001b[0;34m)\u001b[0m\u001b[0;34m)\u001b[0m\u001b[0;34m\u001b[0m\u001b[0;34m\u001b[0m\u001b[0m\n\u001b[0m\u001b[1;32m      9\u001b[0m \u001b[0;34m\u001b[0m\u001b[0m\n\u001b[1;32m     10\u001b[0m     \u001b[0;31m# 1- N 까지의 오름차순 수열 count\u001b[0m\u001b[0;34m\u001b[0m\u001b[0;34m\u001b[0m\u001b[0;34m\u001b[0m\u001b[0m\n",
      "\u001b[0;32m~/.pyenv/versions/church-report-env/lib/python3.7/site-packages/ipykernel/kernelbase.py\u001b[0m in \u001b[0;36mraw_input\u001b[0;34m(self, prompt)\u001b[0m\n\u001b[1;32m    861\u001b[0m             \u001b[0mself\u001b[0m\u001b[0;34m.\u001b[0m\u001b[0m_parent_ident\u001b[0m\u001b[0;34m,\u001b[0m\u001b[0;34m\u001b[0m\u001b[0;34m\u001b[0m\u001b[0m\n\u001b[1;32m    862\u001b[0m             \u001b[0mself\u001b[0m\u001b[0;34m.\u001b[0m\u001b[0m_parent_header\u001b[0m\u001b[0;34m,\u001b[0m\u001b[0;34m\u001b[0m\u001b[0;34m\u001b[0m\u001b[0m\n\u001b[0;32m--> 863\u001b[0;31m             \u001b[0mpassword\u001b[0m\u001b[0;34m=\u001b[0m\u001b[0;32mFalse\u001b[0m\u001b[0;34m,\u001b[0m\u001b[0;34m\u001b[0m\u001b[0;34m\u001b[0m\u001b[0m\n\u001b[0m\u001b[1;32m    864\u001b[0m         )\n\u001b[1;32m    865\u001b[0m \u001b[0;34m\u001b[0m\u001b[0m\n",
      "\u001b[0;32m~/.pyenv/versions/church-report-env/lib/python3.7/site-packages/ipykernel/kernelbase.py\u001b[0m in \u001b[0;36m_input_request\u001b[0;34m(self, prompt, ident, parent, password)\u001b[0m\n\u001b[1;32m    891\u001b[0m             \u001b[0;32mexcept\u001b[0m \u001b[0mKeyboardInterrupt\u001b[0m\u001b[0;34m:\u001b[0m\u001b[0;34m\u001b[0m\u001b[0;34m\u001b[0m\u001b[0m\n\u001b[1;32m    892\u001b[0m                 \u001b[0;31m# re-raise KeyboardInterrupt, to truncate traceback\u001b[0m\u001b[0;34m\u001b[0m\u001b[0;34m\u001b[0m\u001b[0;34m\u001b[0m\u001b[0m\n\u001b[0;32m--> 893\u001b[0;31m                 \u001b[0;32mraise\u001b[0m \u001b[0mKeyboardInterrupt\u001b[0m\u001b[0;34m(\u001b[0m\u001b[0;34m\"Interrupted by user\"\u001b[0m\u001b[0;34m)\u001b[0m \u001b[0;32mfrom\u001b[0m \u001b[0;32mNone\u001b[0m\u001b[0;34m\u001b[0m\u001b[0;34m\u001b[0m\u001b[0m\n\u001b[0m\u001b[1;32m    894\u001b[0m             \u001b[0;32melse\u001b[0m\u001b[0;34m:\u001b[0m\u001b[0;34m\u001b[0m\u001b[0;34m\u001b[0m\u001b[0m\n\u001b[1;32m    895\u001b[0m                 \u001b[0;32mbreak\u001b[0m\u001b[0;34m\u001b[0m\u001b[0;34m\u001b[0m\u001b[0m\n",
      "\u001b[0;31mKeyboardInterrupt\u001b[0m: Interrupted by user"
     ]
    }
   ],
   "source": [
    "num = int(input())+1\n",
    "# print(num)\n",
    "count = 1\n",
    "stack = []\n",
    "result = []\n",
    "for i in range(1, num):\n",
    "    # 주어지는 수열(입력된 숫자)의 숫자 입력\n",
    "    data = int(input())\n",
    "\n",
    "    # 1- N 까지의 오름차순 수열 count\n",
    "    # count 가 주어진 수열(입력된 숫자)의 숫자 값까지 삽입 됨\n",
    "    while count <= data:\n",
    "        stack.append(count)\n",
    "        count += 1\n",
    "        result.append('+')\n",
    "\n",
    "    if stack[-1] == data:\n",
    "        stack.pop()\n",
    "        result.append('-')\n",
    "    else:\n",
    "        print('NO')\n",
    "        exit(0)\n",
    "print('\\n'.join(result))\n",
    "        \n",
    "    "
   ]
  },
  {
   "cell_type": "markdown",
   "metadata": {},
   "source": [
    "# 프린터 큐 1966번"
   ]
  },
  {
   "cell_type": "markdown",
   "metadata": {},
   "source": [
    "# 정답"
   ]
  },
  {
   "cell_type": "code",
   "execution_count": 59,
   "metadata": {},
   "outputs": [
    {
     "name": "stdout",
     "output_type": "stream",
     "text": [
      "3\n",
      "6 0\n",
      "1 9 1 1 1 2\n",
      "[(0, 1), (1, 9), (2, 1), (3, 1), (4, 1), (5, 2)]\n",
      "3\n",
      "4 0\n",
      "1 4 2 3\n",
      "[(0, 1), (1, 4), (2, 2), (3, 3)]\n",
      "4\n",
      "3 2\n",
      "1 3 2\n",
      "[(0, 1), (1, 3), (2, 2)]\n",
      "2\n"
     ]
    }
   ],
   "source": [
    "test_case = int(input())\n",
    "for _ in range(test_case):\n",
    "    N, M = map(int, input().split(' '))\n",
    "    queue = list(map(int, input().split(' ')))\n",
    "    prior_list = [(num,value) for num, value in enumerate(queue)]\n",
    "    count = 0\n",
    "    print(prior_list)\n",
    "    while True:\n",
    "        \n",
    "        if prior_list[0][1] == max(prior_list, key=lambda x:x[1])[1]:\n",
    "            \n",
    "            count += 1\n",
    "            if prior_list[0][0] == M:\n",
    "                print(count)\n",
    "                break\n",
    "            else:\n",
    "                prior_list.pop(0)\n",
    "        else:\n",
    "            prior_list.append(prior_list.pop(0))\n",
    "#             print(prior_list)"
   ]
  },
  {
   "cell_type": "markdown",
   "metadata": {},
   "source": [
    "# 미완성 아이디어"
   ]
  },
  {
   "cell_type": "code",
   "execution_count": null,
   "metadata": {},
   "outputs": [],
   "source": [
    "test_case = int(input())\n",
    "def print_queue(test_case):\n",
    "    for _ in range(test_case):\n",
    "        N, M = map(int, input().split(' '))\n",
    "        queue = list(map(int, input().split(' ')))\n",
    "        prior_dict= {}\n",
    "        prior_dict = {num:value for num, value in enumerate(queue)}\n",
    "        con = 0\n",
    "\n",
    "        for key, value in prior_dict.items():\n",
    "            if prior_dict[M] <= prior_dict[key]:\n",
    "                con += 1\n",
    "                if M == 0:\n",
    "                    if N == 1:\n",
    "                        print('N==1 and M == 0 :::' , N)\n",
    "                        con = N\n",
    "                        break\n",
    "                    else:\n",
    "                        print('M==0 :::',N-1)\n",
    "                        con = N-1\n",
    "                        break\n",
    "                        \n",
    "            else:\n",
    "                continue\n",
    "        print(con)    \n",
    "                \n",
    "\n"
   ]
  },
  {
   "cell_type": "code",
   "execution_count": null,
   "metadata": {},
   "outputs": [],
   "source": []
  },
  {
   "cell_type": "markdown",
   "metadata": {},
   "source": [
    "# 키로거"
   ]
  },
  {
   "cell_type": "code",
   "execution_count": 60,
   "metadata": {},
   "outputs": [
    {
     "name": "stdout",
     "output_type": "stream",
     "text": [
      "2\n"
     ]
    }
   ],
   "source": [
    "testcase = int(input())"
   ]
  },
  {
   "cell_type": "code",
   "execution_count": 63,
   "metadata": {},
   "outputs": [
    {
     "name": "stdout",
     "output_type": "stream",
     "text": [
      "<<BP<A>>Cd-\n",
      "ThIsIsS3Cr3t\n"
     ]
    }
   ],
   "source": [
    "for _ in range(testcase):\n",
    "    stack = input().split('')\n",
    "    "
   ]
  },
  {
   "cell_type": "code",
   "execution_count": 93,
   "metadata": {
    "scrolled": false
   },
   "outputs": [
    {
     "name": "stdout",
     "output_type": "stream",
     "text": [
      "stack[index] :  T\n",
      "password  :  ['T'] ||||| check_index :  1\n",
      "stack[index] :  h\n",
      "password  :  ['T', 'h'] ||||| check_index :  2\n",
      "stack[index] :  I\n",
      "password  :  ['T', 'h', 'I'] ||||| check_index :  3\n",
      "stack[index] :  s\n",
      "password  :  ['T', 'h', 'I', 's'] ||||| check_index :  4\n",
      "stack[index] :  I\n",
      "password  :  ['T', 'h', 'I', 's', 'I'] ||||| check_index :  5\n",
      "stack[index] :  s\n",
      "password  :  ['T', 'h', 'I', 's', 'I', 's'] ||||| check_index :  6\n",
      "stack[index] :  S\n",
      "password  :  ['T', 'h', 'I', 's', 'I', 's', 'S'] ||||| check_index :  7\n",
      "stack[index] :  3\n",
      "password  :  ['T', 'h', 'I', 's', 'I', 's', 'S', '3'] ||||| check_index :  8\n",
      "stack[index] :  C\n",
      "password  :  ['T', 'h', 'I', 's', 'I', 's', 'S', '3', 'C'] ||||| check_index :  9\n",
      "stack[index] :  r\n",
      "password  :  ['T', 'h', 'I', 's', 'I', 's', 'S', '3', 'C', 'r'] ||||| check_index :  10\n",
      "stack[index] :  3\n",
      "password  :  ['T', 'h', 'I', 's', 'I', 's', 'S', '3', 'C', 'r', '3'] ||||| check_index :  11\n",
      "stack[index] :  t\n",
      "password  :  ['T', 'h', 'I', 's', 'I', 's', 'S', '3', 'C', 'r', '3', 't'] ||||| check_index :  12\n"
     ]
    },
    {
     "data": {
      "text/plain": [
       "12"
      ]
     },
     "execution_count": 93,
     "metadata": {},
     "output_type": "execute_result"
    }
   ],
   "source": [
    "stack = 'ThIsIsS3Cr3t'\n",
    "password = list()\n",
    "check_index = 0\n",
    "for index, value in enumerate(stack):\n",
    "    print('stack[index] : ', stack[index] )\n",
    "    \n",
    "    if stack[index] == '<':\n",
    "        if check_index == 0 :\n",
    "            print('<<<<<맨 앞에 있을경우 check_index : ',check_index)\n",
    "            continue\n",
    "        else:\n",
    "            check_index -= 1\n",
    "            print('<<<<중간 혹은 끝에 커서 가 있을경우 check_index : ', check_index)\n",
    "\n",
    "    elif stack[index] == '>':\n",
    "        if len(password) == check_index:\n",
    "            print('>>>>>맨 뒤에 있을경우 check_index : ',check_index)\n",
    "\n",
    "            continue\n",
    "        else:\n",
    "            check_index +=1\n",
    "            print('>>>>>중간 혹은 끝에 커서 가 있을경우 check_index : ', check_index)\n",
    "\n",
    "    elif stack[index] == '-':\n",
    "        if check_index == 0:\n",
    "            print('-----------맨 앞에 커서가 있을 경우 check_index : ', check_index)\n",
    "            continue\n",
    "        else:\n",
    "            # 없애야함 리스트 하나를\n",
    "            print('-----------중간 혹은 끝 있을 경우 check_index : ',check_index)\n",
    "            check_index -=1\n",
    "            del password[check_index]\n",
    "            \n",
    "    else:\n",
    "        password.insert(check_index, stack[index])\n",
    "        check_index +=1\n",
    "        print('password  : ' , password, '|||||', 'check_index : ', check_index)\n",
    "        \n",
    "''.join(password)"
   ]
  },
  {
   "cell_type": "code",
   "execution_count": 95,
   "metadata": {},
   "outputs": [
    {
     "data": {
      "text/plain": [
       "'ThIsIsS3Cr3t'"
      ]
     },
     "execution_count": 95,
     "metadata": {},
     "output_type": "execute_result"
    }
   ],
   "source": [
    "''.join(password)"
   ]
  },
  {
   "cell_type": "code",
   "execution_count": 99,
   "metadata": {},
   "outputs": [
    {
     "name": "stdout",
     "output_type": "stream",
     "text": [
      "2\n",
      "ThIsIsS3Cr3t\n",
      "stack[index] :  T\n",
      "password  :  ['T'] ||||| check_index :  1\n",
      "stack[index] :  h\n",
      "password  :  ['T', 'h'] ||||| check_index :  2\n",
      "stack[index] :  I\n",
      "password  :  ['T', 'h', 'I'] ||||| check_index :  3\n",
      "stack[index] :  s\n",
      "password  :  ['T', 'h', 'I', 's'] ||||| check_index :  4\n",
      "stack[index] :  I\n",
      "password  :  ['T', 'h', 'I', 's', 'I'] ||||| check_index :  5\n",
      "stack[index] :  s\n",
      "password  :  ['T', 'h', 'I', 's', 'I', 's'] ||||| check_index :  6\n",
      "stack[index] :  S\n",
      "password  :  ['T', 'h', 'I', 's', 'I', 's', 'S'] ||||| check_index :  7\n",
      "stack[index] :  3\n",
      "password  :  ['T', 'h', 'I', 's', 'I', 's', 'S', '3'] ||||| check_index :  8\n",
      "stack[index] :  C\n",
      "password  :  ['T', 'h', 'I', 's', 'I', 's', 'S', '3', 'C'] ||||| check_index :  9\n",
      "stack[index] :  r\n",
      "password  :  ['T', 'h', 'I', 's', 'I', 's', 'S', '3', 'C', 'r'] ||||| check_index :  10\n",
      "stack[index] :  3\n",
      "password  :  ['T', 'h', 'I', 's', 'I', 's', 'S', '3', 'C', 'r', '3'] ||||| check_index :  11\n",
      "stack[index] :  t\n",
      "password  :  ['T', 'h', 'I', 's', 'I', 's', 'S', '3', 'C', 'r', '3', 't'] ||||| check_index :  12\n",
      "ThIsIsS3Cr3t\n",
      "<<BP<A>>Cd-\n",
      "stack[index] :  <\n",
      "<<<<<맨 앞에 있을경우 check_index :  0\n",
      "stack[index] :  <\n",
      "<<<<<맨 앞에 있을경우 check_index :  0\n",
      "stack[index] :  B\n",
      "password  :  ['B'] ||||| check_index :  1\n",
      "stack[index] :  P\n",
      "password  :  ['B', 'P'] ||||| check_index :  2\n",
      "stack[index] :  <\n",
      "<<<<중간 혹은 끝에 커서 가 있을경우 check_index :  1\n",
      "stack[index] :  A\n",
      "password  :  ['B', 'A', 'P'] ||||| check_index :  2\n",
      "stack[index] :  >\n",
      ">>>>>중간 혹은 끝에 커서 가 있을경우 check_index :  3\n",
      "stack[index] :  >\n",
      ">>>>>맨 뒤에 있을경우 check_index :  3\n",
      "stack[index] :  C\n",
      "password  :  ['B', 'A', 'P', 'C'] ||||| check_index :  4\n",
      "stack[index] :  d\n",
      "password  :  ['B', 'A', 'P', 'C', 'd'] ||||| check_index :  5\n",
      "stack[index] :  -\n",
      "-----------중간 혹은 끝 있을 경우 check_index :  5\n",
      "BAPC\n"
     ]
    }
   ],
   "source": [
    "testcase = int(input())\n",
    "for _ in range(testcase):\n",
    "\n",
    "    stack = input()\n",
    "    password = list()\n",
    "    check_index = 0\n",
    "    for index, value in enumerate(stack):\n",
    "        print('stack[index] : ', stack[index] )\n",
    "\n",
    "        if stack[index] == '<':\n",
    "            if check_index == 0 :\n",
    "                print('<<<<<맨 앞에 있을경우 check_index : ',check_index)\n",
    "                continue\n",
    "            else:\n",
    "                check_index -= 1\n",
    "                print('<<<<중간 혹은 끝에 커서 가 있을경우 check_index : ', check_index)\n",
    "\n",
    "        elif stack[index] == '>':\n",
    "            if len(password) == check_index:\n",
    "                print('>>>>>맨 뒤에 있을경우 check_index : ',check_index)\n",
    "\n",
    "                continue\n",
    "            else:\n",
    "                check_index +=1\n",
    "                print('>>>>>중간 혹은 끝에 커서 가 있을경우 check_index : ', check_index)\n",
    "\n",
    "        elif stack[index] == '-':\n",
    "            if check_index == 0:\n",
    "                print('-----------맨 앞에 커서가 있을 경우 check_index : ', check_index)\n",
    "                continue\n",
    "            else:\n",
    "                # 없애야함 리스트 하나를\n",
    "                print('-----------중간 혹은 끝 있을 경우 check_index : ',check_index)\n",
    "                check_index -=1\n",
    "                del password[check_index]\n",
    "\n",
    "        else:\n",
    "            password.insert(check_index, stack[index])\n",
    "            check_index +=1\n",
    "            print('password  : ' , password, '|||||', 'check_index : ', check_index)\n",
    "\n",
    "    print(''.join(password))"
   ]
  },
  {
   "cell_type": "code",
   "execution_count": 100,
   "metadata": {},
   "outputs": [
    {
     "name": "stdout",
     "output_type": "stream",
     "text": [
      "2\n",
      "<<BP<A>>Cd-\n",
      "BAPC\n",
      "ThIsIsS3Cr3t\n",
      "ThIsIsS3Cr3t\n"
     ]
    }
   ],
   "source": [
    "testcase = int(input())\n",
    "for _ in range(testcase):\n",
    "\n",
    "    stack = input()\n",
    "    password = list()\n",
    "    check_index = 0\n",
    "    for index, value in enumerate(stack):\n",
    "\n",
    "        if stack[index] == '<':\n",
    "            if check_index == 0 :\n",
    "                continue\n",
    "            else:\n",
    "                check_index -= 1\n",
    "\n",
    "        elif stack[index] == '>':\n",
    "            if len(password) == check_index:\n",
    "\n",
    "                continue\n",
    "            else:\n",
    "                check_index +=1\n",
    "\n",
    "        elif stack[index] == '-':\n",
    "            if check_index == 0:\n",
    "                continue\n",
    "            else:\n",
    "                # 없애야함 리스트 하나를\n",
    "                check_index -=1\n",
    "                del password[check_index]\n",
    "\n",
    "        else:\n",
    "            password.insert(check_index, stack[index])\n",
    "            check_index +=1\n",
    "\n",
    "    print(''.join(password))"
   ]
  },
  {
   "cell_type": "markdown",
   "metadata": {},
   "source": [
    "# 정답"
   ]
  },
  {
   "cell_type": "code",
   "execution_count": 102,
   "metadata": {
    "scrolled": true
   },
   "outputs": [
    {
     "name": "stdout",
     "output_type": "stream",
     "text": [
      "2\n",
      "<<BP<A>>Cd-\n",
      "BAPC\n",
      "ThIsIsS3Cr3t\n",
      "ThIsIsS3Cr3t\n"
     ]
    }
   ],
   "source": [
    "test_case = int(input())\n",
    "for _ in range(test_case):\n",
    "    left_stack = []\n",
    "    right_stack = []\n",
    "    data = input()\n",
    "    for i in data:\n",
    "        if i == '-':\n",
    "            if left_stack:\n",
    "                left_stack.pop()\n",
    "        elif i == '<':\n",
    "            if left_stack:\n",
    "                right_stack.append(left_stack.pop())\n",
    "        elif i == '>':\n",
    "            if right_stack:\n",
    "                left_stack.append(right_stack.pop())\n",
    "        else:\n",
    "            left_stack.append(i)\n",
    "    left_stack.extend(reversed(right_stack))\n",
    "    print(''.join(left_stack))\n",
    "                \n",
    "                \n",
    "                \n",
    "                "
   ]
  },
  {
   "cell_type": "markdown",
   "metadata": {},
   "source": [
    "# SHA- 256"
   ]
  },
  {
   "cell_type": "code",
   "execution_count": 103,
   "metadata": {},
   "outputs": [],
   "source": [
    "import hashlib"
   ]
  },
  {
   "cell_type": "code",
   "execution_count": 106,
   "metadata": {},
   "outputs": [
    {
     "name": "stdout",
     "output_type": "stream",
     "text": [
      "Baekjoon\n",
      "b'Baekjoon'\n"
     ]
    }
   ],
   "source": [
    "string = input()\n",
    "encoded_string = string.encode()\n",
    "print(encoded_string)"
   ]
  },
  {
   "cell_type": "code",
   "execution_count": 107,
   "metadata": {},
   "outputs": [
    {
     "name": "stdout",
     "output_type": "stream",
     "text": [
      "9944e1862efbb2a4e2486392dc6701896416b251eccdecb8332deb7f4cf2a857\n"
     ]
    }
   ],
   "source": [
    "hexdigest = hashlib.sha256(encoded_string).hexdigest()\n",
    "print(hexdigest)"
   ]
  },
  {
   "cell_type": "markdown",
   "metadata": {},
   "source": [
    "# 수찾기"
   ]
  },
  {
   "cell_type": "code",
   "execution_count": 114,
   "metadata": {},
   "outputs": [
    {
     "name": "stdout",
     "output_type": "stream",
     "text": [
      "5\n",
      "4 1 5 2 3\n",
      "5\n",
      "1 3 7 9 5\n",
      "1\n",
      "1\n",
      "0\n",
      "0\n",
      "1\n"
     ]
    }
   ],
   "source": [
    "N = int(input())\n",
    "N_list = set(map(int, input().split(' ')))\n",
    "M = int(input())\n",
    "M_list = list(map(int,input().split(' ')))\n",
    "for i in M_list:\n",
    "    if i in N_list:\n",
    "        print(1)\n",
    "    else:\n",
    "        print(0)\n"
   ]
  },
  {
   "cell_type": "code",
   "execution_count": null,
   "metadata": {},
   "outputs": [],
   "source": [
    "N = int(input())\n",
    "N_list = set(map(int, input().split(' ')))\n",
    "M = int(input())\n",
    "M_list = list(map(int,input().split(' ')))\n",
    "for i in M_list:\n",
    "    if i in N_list:\n",
    "        print(1)\n",
    "    else:\n",
    "        print(0)\n"
   ]
  }
 ],
 "metadata": {
  "kernelspec": {
   "display_name": "Django Shell-Plus",
   "language": "python",
   "name": "django_extensions"
  },
  "language_info": {
   "codemirror_mode": {
    "name": "ipython",
    "version": 3
   },
   "file_extension": ".py",
   "mimetype": "text/x-python",
   "name": "python",
   "nbconvert_exporter": "python",
   "pygments_lexer": "ipython3",
   "version": "3.7.5"
  }
 },
 "nbformat": 4,
 "nbformat_minor": 4
}
