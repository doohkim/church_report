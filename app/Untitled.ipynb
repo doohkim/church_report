{
 "cells": [
  {
   "cell_type": "code",
   "execution_count": 39,
   "metadata": {},
   "outputs": [],
   "source": [
    "def solution(p):\n",
    "\n",
    "    answer = 0\n",
    "    count_first=0\n",
    "    abc = True\n",
    "    while(abc):\n",
    "        p = p+1\n",
    "        a=[i for i in str(p)]\n",
    "        count_first = len(a)\n",
    "\n",
    "        if count_first == 4:\n",
    "            count = len(set(a))\n",
    "            if count == 4:\n",
    "                answer = p\n",
    "                abc = False\n",
    "            else:\n",
    "                continue\n",
    "        elif count_first == 5:\n",
    "            count = len(set(a))\n",
    "            if count == 5:\n",
    "                answer = p\n",
    "                abc = False\n",
    "            else:\n",
    "                continue\n",
    "    return answer\n"
   ]
  },
  {
   "cell_type": "markdown",
   "metadata": {},
   "source": [
    "2016년은 아름다운 연도입니다. 아름다운 연도란, 연도를 구성하는 0부터 9까지의 숫자가 중복 없이 사용된 연도를 의미합니다. 즉, 2016년도는 2가 1번, 0이 1번, 1이 1번, 6이 1번씩 사용되었기 때문에 아름다운 연도라 부릅니다. 하지만 2344년도는 4가 2번씩 사용되었기 때문에 아름다운 연도라고 하지 않습니다.\n",
    "아름다운 연도는 2015년도, 2016년도처럼 연속해서 존재하는 경우도 있지만, 특정 연도 이후로 굉장히 오랫동안 나오지 않을 때도 있습니다. 예를 들어, 1987년도 이후 처음 등장하는 아름다운 연도는 2013년도입니다. 특정 연도 P가 매개변수로 주어질 때, 해당 연도보다 큰 아름다운 연도 중 가장 작은 아름다운 연도를 return 하도록 solution 함수를 완성해주세요.\n",
    "\n",
    "제한사항\n",
    "연도 P : 1,000 이상 10,000 이하의 자연수\n",
    "    "
   ]
  },
  {
   "cell_type": "code",
   "execution_count": 41,
   "metadata": {},
   "outputs": [
    {
     "data": {
      "text/plain": [
       "['2', '0', '1', '6']"
      ]
     },
     "execution_count": 41,
     "metadata": {},
     "output_type": "execute_result"
    }
   ],
   "source": [
    "solution(2015)\n",
    "    "
   ]
  },
  {
   "cell_type": "code",
   "execution_count": 35,
   "metadata": {},
   "outputs": [
    {
     "name": "stdout",
     "output_type": "stream",
     "text": [
      "['2', '0', '1', '0']\n"
     ]
    },
    {
     "data": {
      "text/plain": [
       "4"
      ]
     },
     "execution_count": 35,
     "metadata": {},
     "output_type": "execute_result"
    }
   ],
   "source": [
    "    p = 2010\n",
    "    a=[i for i in str(p)]\n",
    "    print(a)\n",
    "    count_first = len(a)\n",
    "    count_first"
   ]
  },
  {
   "cell_type": "code",
   "execution_count": 13,
   "metadata": {},
   "outputs": [],
   "source": [
    "input_data = [i for i in a]"
   ]
  },
  {
   "cell_type": "code",
   "execution_count": 14,
   "metadata": {},
   "outputs": [
    {
     "data": {
      "text/plain": [
       "['2', '0', '1', '0']"
      ]
     },
     "execution_count": 14,
     "metadata": {},
     "output_type": "execute_result"
    }
   ],
   "source": [
    "for i in input_data:\n",
    "    if set(input)"
   ]
  },
  {
   "cell_type": "code",
   "execution_count": 42,
   "metadata": {},
   "outputs": [],
   "source": [
    "def solution(n):\n",
    "    answer = 0\n",
    "    return answer"
   ]
  },
  {
   "cell_type": "markdown",
   "metadata": {},
   "source": [
    "문제 설명\n",
    "3의 거듭 제곱수는 3을 b번 곱한 수를 의미하며 3b 형태로 표현합니다. 30 = 1이 성립하며, 31 = 3, 32 = 9, 33 = 27, 34 = 81... 모두 거듭 제곱수입니다.\n",
    "3의 거듭 제곱수를 임의로 더하여 거듭 제곱수 사이에 들어가는 수를 만들 수 있습니다. 예를 들어,\n",
    "\n",
    "4 = 1 + 3\n",
    "31 = 27 + 3 + 1\n",
    "입니다.\n",
    "이때, 같은 거듭 제곱수를 2번 이상 더할 수는 없습니다. 이러한 규칙으로 만들어낼 수 있는 수와 3의 거듭 제곱수를 합쳐서 순서대로 배치하면 1, 3, 4, 9, 10...이 됩니다. 이렇게 배치한 숫자의 n번째 숫자가 무엇인지를 알려주는 함수 solution 을 완성해주세요.\n",
    "\n",
    "제한사항\n",
    "n은 1 ≤ n ≤ 1010 인 자연수"
   ]
  },
  {
   "cell_type": "code",
   "execution_count": 105,
   "metadata": {},
   "outputs": [],
   "source": [
    "def solution_2(n):\n",
    "    a=3\n",
    "    b=0\n",
    "    abc = True\n",
    "    aa = list()\n",
    "    answer = 0\n",
    "    while(abc):\n",
    "    \n",
    "        ss=a ** b\n",
    "        b = b+1\n",
    "        if b ==1:\n",
    "            aa.append(ss)\n",
    "        if b > 1:\n",
    "            aa.append(ss)\n",
    "            for i in range(len(aa)-1):\n",
    "                aa.append(aa[i]+ss)\n",
    "        if b >n:\n",
    "            abc=False\n",
    "#     print(aa)\n",
    "#     answer = aa[search_num -1]\n",
    "    return aa[n-1]"
   ]
  },
  {
   "cell_type": "code",
   "execution_count": null,
   "metadata": {
    "scrolled": true
   },
   "outputs": [],
   "source": []
  },
  {
   "cell_type": "code",
   "execution_count": 106,
   "metadata": {
    "scrolled": true
   },
   "outputs": [
    {
     "data": {
      "text/plain": [
       "31"
      ]
     },
     "execution_count": 106,
     "metadata": {},
     "output_type": "execute_result"
    }
   ],
   "source": [
    "solution_2(11)"
   ]
  },
  {
   "cell_type": "code",
   "execution_count": null,
   "metadata": {},
   "outputs": [],
   "source": [
    "a=3\n",
    "b=0\n",
    "abc = True\n",
    "aa = list()\n",
    "\n",
    "search_num = 5\n",
    "\n",
    "while(abc):\n",
    "    \n",
    "    ss=a ** b\n",
    "    b = b+1\n",
    "    if b ==1:\n",
    "        aa.append(ss)\n",
    "#     print(b)\n",
    "    if b > 1:\n",
    "        aa.append(ss)\n",
    "#         print(len(aa))\n",
    "        for i in range(len(aa)-1):\n",
    "#             print('aaa',aa[i])\n",
    "            aa.append(aa[i]+ss)\n",
    "    if b >search_num:\n",
    "        abc=False\n",
    "    print('길이  ', b,'  ',len(aa))\n",
    "\n",
    "aa            \n",
    "# return aa[search_num-1]"
   ]
  },
  {
   "cell_type": "code",
   "execution_count": null,
   "metadata": {},
   "outputs": [],
   "source": []
  }
 ],
 "metadata": {
  "kernelspec": {
   "display_name": "Django Shell-Plus",
   "language": "python",
   "name": "django_extensions"
  },
  "language_info": {
   "codemirror_mode": {
    "name": "ipython",
    "version": 3
   },
   "file_extension": ".py",
   "mimetype": "text/x-python",
   "name": "python",
   "nbconvert_exporter": "python",
   "pygments_lexer": "ipython3",
   "version": "3.7.5"
  }
 },
 "nbformat": 4,
 "nbformat_minor": 4
}
