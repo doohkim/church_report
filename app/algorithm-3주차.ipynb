{
 "cells": [
  {
   "cell_type": "markdown",
   "metadata": {},
   "source": [
    "# 2427번 피보나치 수열"
   ]
  },
  {
   "cell_type": "code",
   "execution_count": 2,
   "metadata": {},
   "outputs": [
    {
     "name": "stdout",
     "output_type": "stream",
     "text": [
      "10\n"
     ]
    }
   ],
   "source": [
    "case = int(input())"
   ]
  },
  {
   "cell_type": "code",
   "execution_count": 7,
   "metadata": {},
   "outputs": [
    {
     "name": "stdout",
     "output_type": "stream",
     "text": [
      "55\n"
     ]
    }
   ],
   "source": [
    "first_value = 1\n",
    "pavonachi_list= [0]\n",
    "for i in range(case):\n",
    "    pavonachi_list.append(first_value)\n",
    "    first_value = first_value + pavonachi_list[i]\n",
    "print(pavonachi_list[-1])    "
   ]
  },
  {
   "cell_type": "markdown",
   "metadata": {},
   "source": [
    "# 10870번 피보나치 수 5 "
   ]
  },
  {
   "cell_type": "code",
   "execution_count": 10,
   "metadata": {},
   "outputs": [
    {
     "name": "stdout",
     "output_type": "stream",
     "text": [
      "6\n",
      "8\n"
     ]
    }
   ],
   "source": [
    "n = int(input())\n",
    "def fibonacci(n):\n",
    "    if n == 0:\n",
    "        return 1\n",
    "    if n == 1:\n",
    "        return 1\n",
    "    return fibonacci(n-1) + fibonacci(n-2)\n",
    "if n == 0:\n",
    "    print(0)\n",
    "else:\n",
    "    print(fibonacci(n-1))\n",
    "        \n",
    "    "
   ]
  },
  {
   "cell_type": "markdown",
   "metadata": {},
   "source": [
    "# 1074번 Z 문제"
   ]
  },
  {
   "cell_type": "code",
   "execution_count": 13,
   "metadata": {},
   "outputs": [
    {
     "name": "stdout",
     "output_type": "stream",
     "text": [
      "5 3 1\n"
     ]
    }
   ],
   "source": [
    "N, r, c = map(int, input().split(' '))"
   ]
  },
  {
   "cell_type": "code",
   "execution_count": 14,
   "metadata": {},
   "outputs": [
    {
     "name": "stdout",
     "output_type": "stream",
     "text": [
      "5\n",
      "<class 'int'>\n",
      "3\n",
      "<class 'int'>\n",
      "1\n"
     ]
    }
   ],
   "source": [
    "### print(type(N))\n",
    "print(N)\n",
    "print(type(r))\n",
    "print(r)\n",
    "print(type(c))\n",
    "print(c)"
   ]
  },
  {
   "cell_type": "code",
   "execution_count": 39,
   "metadata": {
    "scrolled": true
   },
   "outputs": [
    {
     "name": "stdout",
     "output_type": "stream",
     "text": [
      "1 1\n",
      "1 2\n",
      "2 1\n",
      "2 2\n",
      "1 3\n",
      "1 4\n",
      "2 3\n",
      "2 4\n",
      "1 5\n",
      "1 6\n",
      "2 5\n",
      "2 6\n",
      "1 7\n",
      "1 8\n",
      "2 7\n",
      "2 8\n",
      "1 9\n",
      "1 10\n",
      "2 9\n",
      "2 10\n",
      "3 1\n",
      "3 2\n",
      "4 1\n",
      "4 2\n",
      "3 3\n",
      "3 4\n",
      "4 3\n",
      "4 4\n",
      "3 5\n",
      "3 6\n",
      "4 5\n",
      "4 6\n",
      "3 7\n",
      "3 8\n",
      "4 7\n",
      "4 8\n",
      "3 9\n",
      "3 10\n",
      "4 9\n",
      "4 10\n",
      "5 1\n",
      "5 2\n",
      "6 1\n",
      "6 2\n",
      "5 3\n",
      "5 4\n",
      "6 3\n",
      "6 4\n",
      "5 5\n",
      "5 6\n",
      "6 5\n",
      "6 6\n",
      "5 7\n",
      "5 8\n",
      "6 7\n",
      "6 8\n",
      "5 9\n",
      "5 10\n",
      "6 9\n",
      "6 10\n",
      "7 1\n",
      "7 2\n",
      "8 1\n",
      "8 2\n",
      "7 3\n",
      "7 4\n",
      "8 3\n",
      "8 4\n",
      "7 5\n",
      "7 6\n",
      "8 5\n",
      "8 6\n",
      "7 7\n",
      "7 8\n",
      "8 7\n",
      "8 8\n",
      "7 9\n",
      "7 10\n",
      "8 9\n",
      "8 10\n",
      "9 1\n",
      "9 2\n",
      "10 1\n",
      "10 2\n",
      "9 3\n",
      "9 4\n",
      "10 3\n",
      "10 4\n",
      "9 5\n",
      "9 6\n",
      "10 5\n",
      "10 6\n",
      "9 7\n",
      "9 8\n",
      "10 7\n",
      "10 8\n",
      "9 9\n",
      "9 10\n",
      "10 9\n",
      "10 10\n"
     ]
    }
   ],
   "source": [
    "a = list()\n",
    "count = 1\n",
    "for k in range(1, 2*N+1)[::2]:\n",
    "#     print(k, k+1)\n",
    "    for i in range(1,2*N+1)[::2]:\n",
    "        print(k, i)\n",
    "        print(k, i+1)\n",
    "        print(k+1, i)\n",
    "        print(k+1, i+1)"
   ]
  },
  {
   "cell_type": "code",
   "execution_count": 46,
   "metadata": {},
   "outputs": [
    {
     "name": "stdout",
     "output_type": "stream",
     "text": [
      "3 9\n",
      "36\n"
     ]
    }
   ],
   "source": [
    "# 첫번째 답안지(메모리 초과)\n",
    "N, r, c = map(int, input().split(' '))\n",
    "N = 2**N\n",
    "a = list()\n",
    "for k in range(1, N+1)[::2]:\n",
    "    for i in range(1,N+1)[::2]:\n",
    "        a.append((k,i))\n",
    "        a.append((k,i+1))\n",
    "        a.append((k+1,i))\n",
    "        a.append((k+1,i+1))\n",
    "\n",
    "for index,value in enumerate(a):\n",
    "    if r == value[0] and c == value[1]:\n",
    "        print(index+3)\n",
    "#         print('index : ', index+3 , '   value :  ',(value[0], value[1]))        \n"
   ]
  },
  {
   "cell_type": "code",
   "execution_count": null,
   "metadata": {},
   "outputs": [],
   "source": [
    "# 두 번째 답안지 (메모리초과)\n",
    "N, r, c = map(int, input().split(' '))\n",
    "N = 2**N\n",
    "print(N)\n",
    "a = list()\n",
    "count = 1\n",
    "for k in range(1, N+1)[::2]:\n",
    "    for i in range(1,N+1)[::2]:\n",
    "        a.append((k,i))\n",
    "        count +=1\n",
    "        if k == r and i == c:\n",
    "            print(count+1)\n",
    "        a.append((k,i+1))\n",
    "        count += 1\n",
    "        if k == r and (i+1) == c:\n",
    "            print(count+1)\n",
    "        a.append((k+1,i))\n",
    "        count += 1\n",
    "        if (k+1) == r and i == c:\n",
    "            print(count+1)\n",
    "        a.append((k+1,i+1))\n",
    "        count+=1\n",
    "        if (k+1) == r and (i+1) == c:\n",
    "            print(count+1)"
   ]
  },
  {
   "cell_type": "code",
   "execution_count": null,
   "metadata": {},
   "outputs": [],
   "source": [
    "while n > 0:\n",
    "    "
   ]
  },
  {
   "cell_type": "markdown",
   "metadata": {},
   "source": [
    "# 0 만들기"
   ]
  },
  {
   "cell_type": "code",
   "execution_count": 1,
   "metadata": {},
   "outputs": [
    {
     "name": "stdout",
     "output_type": "stream",
     "text": [
      "10\n"
     ]
    }
   ],
   "source": [
    "N = int(input())\n"
   ]
  },
  {
   "cell_type": "code",
   "execution_count": 5,
   "metadata": {},
   "outputs": [],
   "source": [
    "number_list = list()\n",
    "value = 0\n",
    "for i in range(1,N+1):\n",
    "    value =value + i\n",
    "    "
   ]
  },
  {
   "cell_type": "code",
   "execution_count": 6,
   "metadata": {},
   "outputs": [
    {
     "data": {
      "text/plain": [
       "[1, 2, 3, 4, 5, 6, 7, 8, 9, 10]"
      ]
     },
     "execution_count": 6,
     "metadata": {},
     "output_type": "execute_result"
    }
   ],
   "source": [
    "number_list"
   ]
  },
  {
   "cell_type": "code",
   "execution_count": null,
   "metadata": {},
   "outputs": [],
   "source": []
  }
 ],
 "metadata": {
  "kernelspec": {
   "display_name": "Django Shell-Plus",
   "language": "python",
   "name": "django_extensions"
  },
  "language_info": {
   "codemirror_mode": {
    "name": "ipython",
    "version": 3
   },
   "file_extension": ".py",
   "mimetype": "text/x-python",
   "name": "python",
   "nbconvert_exporter": "python",
   "pygments_lexer": "ipython3",
   "version": "3.7.5"
  }
 },
 "nbformat": 4,
 "nbformat_minor": 4
}
